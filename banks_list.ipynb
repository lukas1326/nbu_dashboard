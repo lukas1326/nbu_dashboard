{
 "cells": [
  {
   "cell_type": "markdown",
   "metadata": {},
   "source": [
    "Тут:\n",
    "1. На сьогднішню дату перевіряємо, чи є репорт за поточний місяць. Якщо його ще не має <Response [204]>,\n",
    "    віднімаємо по дню від сьогодньшної дати та перевіряємо, що повертає request.\n",
    "2. Формуємо {date}, щоб вставити його у API та отримуємо робочий лінк.\n",
    "3. З робочого лінку отримуємо репорт на останню дату у вигляді json\n",
    "4. Отримаємо актуальний список банків з їхніми МФО та полем gr_bank,що є:\n",
    "    \"А\" - Банки з державною часткою\n",
    "    \"B\" - Банки іноземних банківських груп\n",
    "    \"E\" - Банки з приватним капіталом\n",
    "    \"F\" - n/a"
   ]
  },
  {
   "cell_type": "code",
   "execution_count": null,
   "metadata": {},
   "outputs": [],
   "source": [
    "import requests\n",
    "from datetime import timedelta\n",
    "from datetime import date\n",
    "from datetime import datetime"
   ]
  },
  {
   "cell_type": "code",
   "execution_count": 2,
   "metadata": {},
   "outputs": [],
   "source": [
    "# get the last actual link from today \n",
    "\n",
    "\n",
    "def last_report(today):\n",
    "    BASE_URL = 'https://bank.gov.ua/NBUStatService/v1/statdirectory/banksfinrep?date={date}&period=m&json'\n",
    "    month = today.month\n",
    "    year = today.year\n",
    "\n",
    "    if month in range(10,11,12):\n",
    "        date=f\"{year}{month}01\"\n",
    "    else:\n",
    "        date=f\"{year}0{month}01\"\n",
    "            \n",
    "    url = BASE_URL.format(date=date)\n",
    "    r = requests.get(url)\n",
    "    return r,url\n"
   ]
  },
  {
   "cell_type": "code",
   "execution_count": 29,
   "metadata": {},
   "outputs": [],
   "source": [
    "today=datetime.today()"
   ]
  },
  {
   "cell_type": "code",
   "execution_count": 30,
   "metadata": {},
   "outputs": [
    {
     "data": {
      "text/plain": [
       "(<Response [204]>, 1)"
      ]
     },
     "execution_count": 30,
     "metadata": {},
     "output_type": "execute_result"
    }
   ],
   "source": [
    "r,_=last_report(today)\n",
    "r,today.month"
   ]
  },
  {
   "cell_type": "code",
   "execution_count": 21,
   "metadata": {},
   "outputs": [],
   "source": [
    "r,url=last_report(today)\n",
    "while r.status_code !=200:\n",
    "        today=today-timedelta(days=1)\n",
    "        r,url=last_report(today)"
   ]
  },
  {
   "cell_type": "code",
   "execution_count": 31,
   "metadata": {},
   "outputs": [],
   "source": [
    "# good advice for 'while','try' :\n",
    "# https://stackoverflow.com/questions/36142149/python-run-try-again-after-exception-caught-and-worked-out/36142210\n",
    "while True:\n",
    "    try:\n",
    "        r,url=last_report(today)\n",
    "        while r.status_code !=200:\n",
    "            today=today-timedelta(days=1)\n",
    "            r,url=last_report(today)# try code\n",
    "        break # quit the loop if successful\n",
    "    except:\n",
    "        print(\"No connection with API\")# error handling\n",
    "\n"
   ]
  },
  {
   "cell_type": "code",
   "execution_count": 32,
   "metadata": {},
   "outputs": [
    {
     "data": {
      "text/plain": [
       "(datetime.datetime(2020, 8, 31, 2, 2), <Response [200]>)"
      ]
     },
     "execution_count": 32,
     "metadata": {},
     "output_type": "execute_result"
    }
   ],
   "source": [
    "today,r"
   ]
  },
  {
   "cell_type": "code",
   "execution_count": 33,
   "metadata": {},
   "outputs": [
    {
     "data": {
      "text/plain": [
       "'https://bank.gov.ua/NBUStatService/v1/statdirectory/banksfinrep?date=20200801&period=m&json'"
      ]
     },
     "execution_count": 33,
     "metadata": {},
     "output_type": "execute_result"
    }
   ],
   "source": [
    "url"
   ]
  },
  {
   "cell_type": "code",
   "execution_count": 34,
   "metadata": {},
   "outputs": [],
   "source": [
    "r = requests.get(url)\n",
    "source=r.json()"
   ]
  },
  {
   "cell_type": "code",
   "execution_count": 36,
   "metadata": {},
   "outputs": [],
   "source": [
    "name_pair = [(i['fullname'],i['mfo'],i['gr_bank']) for i in source]"
   ]
  },
  {
   "cell_type": "code",
   "execution_count": 39,
   "metadata": {},
   "outputs": [],
   "source": [
    "banks = set(name_pair)"
   ]
  },
  {
   "cell_type": "code",
   "execution_count": 42,
   "metadata": {},
   "outputs": [
    {
     "data": {
      "text/plain": [
       "list"
      ]
     },
     "execution_count": 42,
     "metadata": {},
     "output_type": "execute_result"
    }
   ],
   "source": [
    "type(list(banks))"
   ]
  }
 ],
 "metadata": {
  "kernelspec": {
   "display_name": "Python 3",
   "language": "python",
   "name": "python3"
  },
  "language_info": {
   "codemirror_mode": {
    "name": "ipython",
    "version": 3
   },
   "file_extension": ".py",
   "mimetype": "text/x-python",
   "name": "python",
   "nbconvert_exporter": "python",
   "pygments_lexer": "ipython3",
   "version": "3.8.3"
  }
 },
 "nbformat": 4,
 "nbformat_minor": 4
}
