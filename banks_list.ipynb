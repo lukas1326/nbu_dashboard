{
 "cells": [
  {
   "cell_type": "markdown",
   "metadata": {},
   "source": [
    "Тут:\n",
    "1. На сьогднішню дату перевіряємо, чи є репорт за поточний місяць. Якщо його ще не має <Response [204]>,\n",
    "    віднімаємо по дню від сьогодньшної дати та перевіряємо, що повертає request.\n",
    "2. Формуємо {date}, щоб вставити його у API та отримуємо робочий лінк.\n",
    "3. З робочого лінку отримуємо репорт на останню дату у вигляді json\n",
    "4. Отримаємо актуальний список банків з їхніми МФО та полем gr_bank,що є:\n",
    "    \"А\" - Банки з державною часткою\n",
    "    \"B\" - Банки іноземних банківських груп\n",
    "    \"E\" - Банки з приватним капіталом\n",
    "    \"F\" - n/a"
   ]
  },
  {
   "cell_type": "code",
   "execution_count": 1,
   "metadata": {},
   "outputs": [],
   "source": [
    "import requests\n",
    "from datetime import timedelta\n",
    "from datetime import date\n",
    "from datetime import datetime"
   ]
  },
  {
   "cell_type": "code",
   "execution_count": 2,
   "metadata": {},
   "outputs": [],
   "source": [
    "# get the last actual link from today \n",
    "\n",
    "\n",
    "def last_report(today):\n",
    "    BASE_URL = 'https://bank.gov.ua/NBUStatService/v1/statdirectory/banksfinrep?date={date}&period=m&json'\n",
    "    month = today.month\n",
    "    year = today.year\n",
    "\n",
    "    if month in range(10,11,12):\n",
    "        date=f\"{year}{month}01\"\n",
    "    else:\n",
    "        date=f\"{year}0{month}01\"\n",
    "            \n",
    "    url = BASE_URL.format(date=date)\n",
    "    r = requests.get(url)\n",
    "    return r,url\n"
   ]
  },
  {
   "cell_type": "code",
   "execution_count": 3,
   "metadata": {},
   "outputs": [],
   "source": [
    "today=datetime.today()"
   ]
  },
  {
   "cell_type": "code",
   "execution_count": 4,
   "metadata": {},
   "outputs": [
    {
     "data": {
      "text/plain": [
       "(<Response [204]>, 9)"
      ]
     },
     "execution_count": 4,
     "metadata": {},
     "output_type": "execute_result"
    }
   ],
   "source": [
    "r,_=last_report(today)\n",
    "r,today.month"
   ]
  },
  {
   "cell_type": "code",
   "execution_count": 5,
   "metadata": {},
   "outputs": [],
   "source": [
    "r,url=last_report(today)\n",
    "while r.status_code !=200:\n",
    "        today=today-timedelta(days=1)\n",
    "        r,url=last_report(today)"
   ]
  },
  {
   "cell_type": "code",
   "execution_count": 6,
   "metadata": {},
   "outputs": [],
   "source": [
    "# good advice for 'while','try' :\n",
    "# https://stackoverflow.com/questions/36142149/python-run-try-again-after-exception-caught-and-worked-out/36142210\n",
    "while True:\n",
    "    try:\n",
    "        r,url=last_report(today)\n",
    "        while r.status_code !=200:\n",
    "            today=today-timedelta(days=1)\n",
    "            r,url=last_report(today)# try code\n",
    "        break # quit the loop if successful\n",
    "    except:\n",
    "        print(\"No connection with API\")# error handling\n",
    "\n"
   ]
  },
  {
   "cell_type": "code",
   "execution_count": 7,
   "metadata": {},
   "outputs": [
    {
     "data": {
      "text/plain": [
       "(datetime.datetime(2020, 8, 31, 12, 0, 8, 983311), <Response [200]>)"
      ]
     },
     "execution_count": 7,
     "metadata": {},
     "output_type": "execute_result"
    }
   ],
   "source": [
    "today,r"
   ]
  },
  {
   "cell_type": "code",
   "execution_count": 8,
   "metadata": {},
   "outputs": [
    {
     "data": {
      "text/plain": [
       "'https://bank.gov.ua/NBUStatService/v1/statdirectory/banksfinrep?date=20200801&period=m&json'"
      ]
     },
     "execution_count": 8,
     "metadata": {},
     "output_type": "execute_result"
    }
   ],
   "source": [
    "url"
   ]
  },
  {
   "cell_type": "code",
   "execution_count": 9,
   "metadata": {},
   "outputs": [],
   "source": [
    "r = requests.get(url)\n",
    "source=r.json()"
   ]
  },
  {
   "cell_type": "code",
   "execution_count": 10,
   "metadata": {},
   "outputs": [],
   "source": [
    "name_pair = [(i['fullname'],i['mfo'],i['gr_bank']) for i in source]"
   ]
  },
  {
   "cell_type": "code",
   "execution_count": 11,
   "metadata": {},
   "outputs": [],
   "source": [
    "banks = set(name_pair)"
   ]
  },
  {
   "cell_type": "code",
   "execution_count": 12,
   "metadata": {},
   "outputs": [
    {
     "data": {
      "text/plain": [
       "list"
      ]
     },
     "execution_count": 12,
     "metadata": {},
     "output_type": "execute_result"
    }
   ],
   "source": [
    "type(list(banks))"
   ]
  },
  {
   "cell_type": "code",
   "execution_count": 13,
   "metadata": {},
   "outputs": [
    {
     "data": {
      "text/plain": [
       "{'dt': '20200801',\n",
       " 'txt': 'Активи - Чисті активи, усього',\n",
       " 'txten': 'Assets - Net assets, Total',\n",
       " 'id_api': 'BS1_AssetsNet',\n",
       " 'leveli': 2,\n",
       " 'parent': 'BS1_AssetsTotal',\n",
       " 'freq': 'M',\n",
       " 'nkb': '305',\n",
       " 'mfo': '307123',\n",
       " 'fullname': 'ПАТ \"БАНК ВОСТОК\"',\n",
       " 'gr_bank': 'E',\n",
       " 'r034': '1',\n",
       " 'value': 6771.3352,\n",
       " 'tzep': 'T070_7'}"
      ]
     },
     "execution_count": 13,
     "metadata": {},
     "output_type": "execute_result"
    }
   ],
   "source": [
    "source[0]"
   ]
  },
  {
   "cell_type": "code",
   "execution_count": 16,
   "metadata": {},
   "outputs": [],
   "source": [
    "leveli_1=list(set([(i['txt'],i['txten'],i['id_api']) for i in source if i['leveli']==1]))"
   ]
  },
  {
   "cell_type": "code",
   "execution_count": 18,
   "metadata": {},
   "outputs": [
    {
     "data": {
      "text/plain": [
       "7"
      ]
     },
     "execution_count": 18,
     "metadata": {},
     "output_type": "execute_result"
    }
   ],
   "source": [
    "len(leveli_1)"
   ]
  },
  {
   "cell_type": "code",
   "execution_count": 41,
   "metadata": {},
   "outputs": [
    {
     "data": {
      "text/plain": [
       "('BS1_ProfitLossAfterTax',\n",
       " 'Доходи і витрати - Прибуток/(збиток) після оподаткування')"
      ]
     },
     "execution_count": 41,
     "metadata": {},
     "output_type": "execute_result"
    }
   ],
   "source": [
    "leveli_1[0][2],leveli_1[0][0]"
   ]
  },
  {
   "cell_type": "code",
   "execution_count": 29,
   "metadata": {},
   "outputs": [
    {
     "data": {
      "text/plain": [
       "('BS1_AssetsTotal', 'Активи - Усього активів')"
      ]
     },
     "execution_count": 29,
     "metadata": {},
     "output_type": "execute_result"
    }
   ],
   "source": [
    "leveli_1[1][2],leveli_1[1][0]"
   ]
  },
  {
   "cell_type": "code",
   "execution_count": 48,
   "metadata": {
    "scrolled": true
   },
   "outputs": [],
   "source": [
    "BS1_AssetsTotal = list(set([(i['txt'],i['txten'],i['id_api']) for i in source if i['parent']=='BS1_AssetsTotal']))"
   ]
  },
  {
   "cell_type": "code",
   "execution_count": 30,
   "metadata": {},
   "outputs": [
    {
     "data": {
      "text/plain": [
       "('BS1_CapitalTotal', 'Капітал - Усього власного капіталу')"
      ]
     },
     "execution_count": 30,
     "metadata": {},
     "output_type": "execute_result"
    }
   ],
   "source": [
    "leveli_1[2][2],leveli_1[2][0]\n",
    "#BS1_Capital_Total"
   ]
  },
  {
   "cell_type": "code",
   "execution_count": 49,
   "metadata": {},
   "outputs": [],
   "source": [
    "BS1_Capital_Total = list(set([(i['txt'],i['txten'],i['id_api']) for i in source if i['parent']=='BS1_Capital_Total']))"
   ]
  },
  {
   "cell_type": "code",
   "execution_count": 32,
   "metadata": {},
   "outputs": [
    {
     "data": {
      "text/plain": [
       "('BS1_LiabTotal', \"Зобов'язання - Усього зобов’язань\")"
      ]
     },
     "execution_count": 32,
     "metadata": {},
     "output_type": "execute_result"
    }
   ],
   "source": [
    "leveli_1[3][2],leveli_1[3][0]"
   ]
  },
  {
   "cell_type": "code",
   "execution_count": 51,
   "metadata": {},
   "outputs": [],
   "source": [
    "BS1_LiabTotal=list(set([(i['txt'],i['txten'],i['id_api']) for i in source if i['parent']=='BS1_LiabTotal']))"
   ]
  },
  {
   "cell_type": "code",
   "execution_count": 34,
   "metadata": {},
   "outputs": [
    {
     "data": {
      "text/plain": [
       "('BS1_ProfitLossBeforTax',\n",
       " 'Доходи і витрати - Прибуток/(збиток) до оподаткування')"
      ]
     },
     "execution_count": 34,
     "metadata": {},
     "output_type": "execute_result"
    }
   ],
   "source": [
    "leveli_1[4][2],leveli_1[4][0]"
   ]
  },
  {
   "cell_type": "code",
   "execution_count": 52,
   "metadata": {},
   "outputs": [],
   "source": [
    "BS1_ProfitLossBeforTax = list(set([(i['txt'],i['txten'],i['id_api']) for i in source if i['parent']=='BS1_ProfitLossBeforTax']))"
   ]
  },
  {
   "cell_type": "code",
   "execution_count": 36,
   "metadata": {},
   "outputs": [
    {
     "data": {
      "text/plain": [
       "('BS1_ExpenTotal', 'Доходи і витрати - Всього витрат')"
      ]
     },
     "execution_count": 36,
     "metadata": {},
     "output_type": "execute_result"
    }
   ],
   "source": [
    "leveli_1[5][2],leveli_1[5][0]"
   ]
  },
  {
   "cell_type": "code",
   "execution_count": 53,
   "metadata": {},
   "outputs": [],
   "source": [
    "BS1_ExpenTotal = list(set([(i['txt'],i['txten'],i['id_api']) for i in source if i['parent']=='BS1_ExpenTotal']))"
   ]
  },
  {
   "cell_type": "code",
   "execution_count": 38,
   "metadata": {},
   "outputs": [
    {
     "data": {
      "text/plain": [
       "('BS1_IncomeTotal', 'Доходи і витрати - Всього доходів')"
      ]
     },
     "execution_count": 38,
     "metadata": {},
     "output_type": "execute_result"
    }
   ],
   "source": [
    "leveli_1[6][2],leveli_1[6][0]"
   ]
  },
  {
   "cell_type": "code",
   "execution_count": 55,
   "metadata": {},
   "outputs": [],
   "source": [
    "BS1_IncomeTotal = list(set([(i['txt'],i['txten'],i['id_api']) for i in source if i['parent']=='BS1_IncomeTotal']))"
   ]
  },
  {
   "cell_type": "code",
   "execution_count": 58,
   "metadata": {},
   "outputs": [
    {
     "data": {
      "text/plain": [
       "[('Активи - Provisions, total',\n",
       "  'Assets - Net assets - Total',\n",
       "  'BS1_AssetsProvTotal'),\n",
       " ('Активи - Інвестиційна нерухомість',\n",
       "  'Assets - Investment property',\n",
       "  'BS1_AssetsInvestProp'),\n",
       " ('Активи - Цінні папери, які обліковуються за справедливою вартістю через інший сукупний дохід',\n",
       "  'Assets - Securities at fair value through other comprehensive income',\n",
       "  'BS1_AssetsSecurFVOCI'),\n",
       " ('Активи - ОВДП, що рефінансуються НБУ',\n",
       "  'Assets - IGLB refinanced by NBU',\n",
       "  'BS1_AssetsIGLBRefinNBU'),\n",
       " ('Активи - Інші активи', 'Assets - Other assets', 'BS1_AssetsOther'),\n",
       " ('Активи - Чисті активи, усього',\n",
       "  'Assets - Net assets, Total',\n",
       "  'BS1_AssetsNet'),\n",
       " ('Активи - Відстрочений податковий актив',\n",
       "  'Assets - Deferred tax asset',\n",
       "  'BS1_AssetsDeferTax'),\n",
       " ('Активи - Цінні папери, які обліковуються за амортизованою собівартістю',\n",
       "  'Assets - Securities at amortised cost',\n",
       "  'BS1_AssetsSecurAC'),\n",
       " ('Активи - Інвестиції в асоційовані та дочірні компанії',\n",
       "  'Assets - Investments in associates and subsidiaries',\n",
       "  'BS1_AssetsInvestSubsid'),\n",
       " ('Активи - Дебіторська заборгованість щодо поточного податку на прибуток',\n",
       "  'Assets - Current income tax receivables',\n",
       "  'BS1_AssetsReceivCurrIncTax'),\n",
       " ('Активи - Фінансові активи, що обліковуються за справедливою вартістю через прибуток або збиток',\n",
       "  'Assets - Financial assets designated at fair value through pro?t or loss',\n",
       "  'BS1_FinAssetsFairVal'),\n",
       " ('Активи - Кредити та заборгованість клієнтів',\n",
       "  'Assets - Loans and receivables from customers',\n",
       "  'BS1_AssetsLoansClients'),\n",
       " ('Активи - Грошові кошти та їх еквіваленти',\n",
       "  'Assets - Cash and cash equivalents',\n",
       "  'BS1_AssetsCash'),\n",
       " ('Активи - Кошти в інших банках, усього',\n",
       "  'Assets - Amounts due from other banks',\n",
       "  'BS1_AssetsOtherBanks'),\n",
       " ('Активи - Інші фінансові активи',\n",
       "  'Assets - Other financial assets',\n",
       "  'BS1_AssetsOtherFin'),\n",
       " ('Активи - Основні засоби та нематеріальні активи',\n",
       "  'Assets - Fixed assets and intangible assets',\n",
       "  'BS1_AssetsCapitalNominal')]"
      ]
     },
     "execution_count": 58,
     "metadata": {},
     "output_type": "execute_result"
    }
   ],
   "source": [
    "BS1_AssetsTotal\n"
   ]
  }
 ],
 "metadata": {
  "kernelspec": {
   "display_name": "Python 3",
   "language": "python",
   "name": "python3"
  },
  "language_info": {
   "codemirror_mode": {
    "name": "ipython",
    "version": 3
   },
   "file_extension": ".py",
   "mimetype": "text/x-python",
   "name": "python",
   "nbconvert_exporter": "python",
   "pygments_lexer": "ipython3",
   "version": "3.8.3"
  }
 },
 "nbformat": 4,
 "nbformat_minor": 4
}
