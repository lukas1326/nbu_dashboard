{
 "cells": [
  {
   "cell_type": "code",
   "execution_count": 1,
   "metadata": {},
   "outputs": [
    {
     "name": "stdout",
     "output_type": "stream",
     "text": [
      "No connection with API\n"
     ]
    }
   ],
   "source": [
    "from banks import banks\n",
    "import requests\n",
    "import pandas as pd\n",
    "import plotly.express as px\n",
    "from plotly.subplots import make_subplots\n",
    "import plotly.graph_objects as go\n",
    "import matplotlib.pyplot as plt"
   ]
  },
  {
   "cell_type": "code",
   "execution_count": 1,
   "metadata": {},
   "outputs": [],
   "source": [
    "id_tuple = [('Активи','BS1_AssetsTotal'),(\"Зобов'язання\",'BS1_LiabTotal'),\n",
    "('Капітал','BS1_CapitalTotal'),('Доходи і витрати - Всього доходів','BS1_IncomeTotal'),\n",
    "('Доходи і витрати - Всього витрат','BS1_ExpenTotal'),('Доходи і витрати - Прибуток/(збиток) до оподаткування','BS1_ProfitLossBeforTax'),\n",
    "('Доходи і витрати - Прибуток/(збиток) після оподаткування','BS1_ProfitLossAfterTax')]"
   ]
  },
  {
   "cell_type": "code",
   "execution_count": 2,
   "metadata": {
    "scrolled": true
   },
   "outputs": [
    {
     "data": {
      "text/plain": [
       "['Активи',\n",
       " \"Зобов'язання\",\n",
       " 'Капітал',\n",
       " 'Доходи і витрати - Всього доходів',\n",
       " 'Доходи і витрати - Всього витрат',\n",
       " 'Доходи і витрати - Прибуток/(збиток) до оподаткування',\n",
       " 'Доходи і витрати - Прибуток/(збиток) після оподаткування']"
      ]
     },
     "execution_count": 2,
     "metadata": {},
     "output_type": "execute_result"
    }
   ],
   "source": [
    "[i[0] for i in id_tuple]"
   ]
  },
  {
   "cell_type": "code",
   "execution_count": 21,
   "metadata": {},
   "outputs": [
    {
     "data": {
      "text/plain": [
       "'BS1_AssetsTotal'"
      ]
     },
     "execution_count": 21,
     "metadata": {},
     "output_type": "execute_result"
    }
   ],
   "source": [
    "id_choice=id_tuple[0][0]\n",
    "[i[1] for i in id_tuple if i[0]==id_choice][0]\n"
   ]
  },
  {
   "cell_type": "code",
   "execution_count": 2,
   "metadata": {},
   "outputs": [],
   "source": [
    "def get_data_all(id_api):\n",
    "    BASE_URL = 'https://bank.gov.ua/NBUStatService/v1/statdirectory/banksfinrep?id_api={id_api}&start=20180101&period=m&json'\n",
    "    url = BASE_URL.format(id_api=id_api)\n",
    "    r = requests.get(url)\n",
    "    source=r.json()\n",
    "    return source"
   ]
  },
  {
   "cell_type": "code",
   "execution_count": 3,
   "metadata": {},
   "outputs": [],
   "source": [
    "id_api='BS1_IncomeTotal'\n",
    "\n",
    "source=get_data_all(id_api)"
   ]
  },
  {
   "cell_type": "code",
   "execution_count": 74,
   "metadata": {},
   "outputs": [],
   "source": [
    "df=pd.DataFrame(source)"
   ]
  },
  {
   "cell_type": "code",
   "execution_count": 61,
   "metadata": {},
   "outputs": [
    {
     "data": {
      "text/html": [
       "<div>\n",
       "<style scoped>\n",
       "    .dataframe tbody tr th:only-of-type {\n",
       "        vertical-align: middle;\n",
       "    }\n",
       "\n",
       "    .dataframe tbody tr th {\n",
       "        vertical-align: top;\n",
       "    }\n",
       "\n",
       "    .dataframe thead th {\n",
       "        text-align: right;\n",
       "    }\n",
       "</style>\n",
       "<table border=\"1\" class=\"dataframe\">\n",
       "  <thead>\n",
       "    <tr style=\"text-align: right;\">\n",
       "      <th></th>\n",
       "      <th>dt</th>\n",
       "      <th>gr_bank</th>\n",
       "      <th>value</th>\n",
       "    </tr>\n",
       "  </thead>\n",
       "  <tbody>\n",
       "    <tr>\n",
       "      <th>0</th>\n",
       "      <td>20180101</td>\n",
       "      <td>A</td>\n",
       "      <td>37580.0611</td>\n",
       "    </tr>\n",
       "    <tr>\n",
       "      <th>1</th>\n",
       "      <td>20180101</td>\n",
       "      <td>B</td>\n",
       "      <td>43747.5756</td>\n",
       "    </tr>\n",
       "    <tr>\n",
       "      <th>4</th>\n",
       "      <td>20180201</td>\n",
       "      <td>A</td>\n",
       "      <td>2540.8851</td>\n",
       "    </tr>\n",
       "    <tr>\n",
       "      <th>5</th>\n",
       "      <td>20180201</td>\n",
       "      <td>B</td>\n",
       "      <td>3525.5499</td>\n",
       "    </tr>\n",
       "    <tr>\n",
       "      <th>8</th>\n",
       "      <td>20180301</td>\n",
       "      <td>A</td>\n",
       "      <td>4554.9560</td>\n",
       "    </tr>\n",
       "    <tr>\n",
       "      <th>...</th>\n",
       "      <td>...</td>\n",
       "      <td>...</td>\n",
       "      <td>...</td>\n",
       "    </tr>\n",
       "    <tr>\n",
       "      <th>105</th>\n",
       "      <td>20200601</td>\n",
       "      <td>B</td>\n",
       "      <td>21364.3800</td>\n",
       "    </tr>\n",
       "    <tr>\n",
       "      <th>107</th>\n",
       "      <td>20200701</td>\n",
       "      <td>A</td>\n",
       "      <td>42762.1395</td>\n",
       "    </tr>\n",
       "    <tr>\n",
       "      <th>108</th>\n",
       "      <td>20200701</td>\n",
       "      <td>B</td>\n",
       "      <td>25122.6183</td>\n",
       "    </tr>\n",
       "    <tr>\n",
       "      <th>110</th>\n",
       "      <td>20200801</td>\n",
       "      <td>A</td>\n",
       "      <td>48787.5556</td>\n",
       "    </tr>\n",
       "    <tr>\n",
       "      <th>111</th>\n",
       "      <td>20200801</td>\n",
       "      <td>B</td>\n",
       "      <td>29279.3233</td>\n",
       "    </tr>\n",
       "  </tbody>\n",
       "</table>\n",
       "<p>64 rows × 3 columns</p>\n",
       "</div>"
      ],
      "text/plain": [
       "           dt gr_bank       value\n",
       "0    20180101       A  37580.0611\n",
       "1    20180101       B  43747.5756\n",
       "4    20180201       A   2540.8851\n",
       "5    20180201       B   3525.5499\n",
       "8    20180301       A   4554.9560\n",
       "..        ...     ...         ...\n",
       "105  20200601       B  21364.3800\n",
       "107  20200701       A  42762.1395\n",
       "108  20200701       B  25122.6183\n",
       "110  20200801       A  48787.5556\n",
       "111  20200801       B  29279.3233\n",
       "\n",
       "[64 rows x 3 columns]"
      ]
     },
     "execution_count": 61,
     "metadata": {},
     "output_type": "execute_result"
    }
   ],
   "source": [
    "df=df.groupby([df.dt,df.gr_bank]).value.sum().reset_index()\n",
    "df[df.gr_bank.isin(['A','B'])]"
   ]
  },
  {
   "cell_type": "code",
   "execution_count": 62,
   "metadata": {},
   "outputs": [],
   "source": [
    "df=df[~(df.gr_bank=='F')].reset_index()"
   ]
  },
  {
   "cell_type": "code",
   "execution_count": 63,
   "metadata": {},
   "outputs": [],
   "source": [
    "df['dt']=pd.to_datetime(df.dt)\n",
    "df=df.groupby([df.dt,df.gr_bank]).value.sum().reset_index()"
   ]
  },
  {
   "cell_type": "code",
   "execution_count": 64,
   "metadata": {
    "scrolled": true
   },
   "outputs": [
    {
     "data": {
      "text/html": [
       "<div>\n",
       "<style scoped>\n",
       "    .dataframe tbody tr th:only-of-type {\n",
       "        vertical-align: middle;\n",
       "    }\n",
       "\n",
       "    .dataframe tbody tr th {\n",
       "        vertical-align: top;\n",
       "    }\n",
       "\n",
       "    .dataframe thead th {\n",
       "        text-align: right;\n",
       "    }\n",
       "</style>\n",
       "<table border=\"1\" class=\"dataframe\">\n",
       "  <thead>\n",
       "    <tr style=\"text-align: right;\">\n",
       "      <th></th>\n",
       "      <th>dt</th>\n",
       "      <th>gr_bank</th>\n",
       "      <th>value</th>\n",
       "    </tr>\n",
       "  </thead>\n",
       "  <tbody>\n",
       "    <tr>\n",
       "      <th>0</th>\n",
       "      <td>2018-01-01</td>\n",
       "      <td>A</td>\n",
       "      <td>37580.0611</td>\n",
       "    </tr>\n",
       "    <tr>\n",
       "      <th>1</th>\n",
       "      <td>2018-01-01</td>\n",
       "      <td>B</td>\n",
       "      <td>43747.5756</td>\n",
       "    </tr>\n",
       "    <tr>\n",
       "      <th>2</th>\n",
       "      <td>2018-01-01</td>\n",
       "      <td>E</td>\n",
       "      <td>18071.0408</td>\n",
       "    </tr>\n",
       "    <tr>\n",
       "      <th>3</th>\n",
       "      <td>2018-02-01</td>\n",
       "      <td>A</td>\n",
       "      <td>2540.8851</td>\n",
       "    </tr>\n",
       "    <tr>\n",
       "      <th>4</th>\n",
       "      <td>2018-02-01</td>\n",
       "      <td>B</td>\n",
       "      <td>3525.5499</td>\n",
       "    </tr>\n",
       "    <tr>\n",
       "      <th>...</th>\n",
       "      <td>...</td>\n",
       "      <td>...</td>\n",
       "      <td>...</td>\n",
       "    </tr>\n",
       "    <tr>\n",
       "      <th>91</th>\n",
       "      <td>2020-07-01</td>\n",
       "      <td>B</td>\n",
       "      <td>25122.6183</td>\n",
       "    </tr>\n",
       "    <tr>\n",
       "      <th>92</th>\n",
       "      <td>2020-07-01</td>\n",
       "      <td>E</td>\n",
       "      <td>15893.2155</td>\n",
       "    </tr>\n",
       "    <tr>\n",
       "      <th>93</th>\n",
       "      <td>2020-08-01</td>\n",
       "      <td>A</td>\n",
       "      <td>48787.5556</td>\n",
       "    </tr>\n",
       "    <tr>\n",
       "      <th>94</th>\n",
       "      <td>2020-08-01</td>\n",
       "      <td>B</td>\n",
       "      <td>29279.3233</td>\n",
       "    </tr>\n",
       "    <tr>\n",
       "      <th>95</th>\n",
       "      <td>2020-08-01</td>\n",
       "      <td>E</td>\n",
       "      <td>18883.6490</td>\n",
       "    </tr>\n",
       "  </tbody>\n",
       "</table>\n",
       "<p>96 rows × 3 columns</p>\n",
       "</div>"
      ],
      "text/plain": [
       "           dt gr_bank       value\n",
       "0  2018-01-01       A  37580.0611\n",
       "1  2018-01-01       B  43747.5756\n",
       "2  2018-01-01       E  18071.0408\n",
       "3  2018-02-01       A   2540.8851\n",
       "4  2018-02-01       B   3525.5499\n",
       "..        ...     ...         ...\n",
       "91 2020-07-01       B  25122.6183\n",
       "92 2020-07-01       E  15893.2155\n",
       "93 2020-08-01       A  48787.5556\n",
       "94 2020-08-01       B  29279.3233\n",
       "95 2020-08-01       E  18883.6490\n",
       "\n",
       "[96 rows x 3 columns]"
      ]
     },
     "execution_count": 64,
     "metadata": {},
     "output_type": "execute_result"
    }
   ],
   "source": [
    "df"
   ]
  },
  {
   "cell_type": "code",
   "execution_count": 6,
   "metadata": {},
   "outputs": [],
   "source": [
    "agg_multi_select = [('Банки з державною часткою',\"A\"),\n",
    "    ('Банки іноземних банківських груп',\"B\"),\n",
    "    ('Банки з приватним капіталом','E')]\n",
    "agg_choice = [i[1] for i in agg_multi_select]"
   ]
  },
  {
   "cell_type": "code",
   "execution_count": 34,
   "metadata": {},
   "outputs": [],
   "source": [
    "gr_bank=list(df.gr_bank)\n",
    "a=[]\n",
    "for i in gr_bank:\n",
    "    for j in agg_multi_select:\n",
    "        if i ==j[1]:\n",
    "            a.append(j[0])\n",
    "df['gr_name']=pd.Series(a)"
   ]
  },
  {
   "cell_type": "code",
   "execution_count": 58,
   "metadata": {},
   "outputs": [
    {
     "data": {
      "text/plain": [
       "Index(['dt', 'txt', 'txten', 'id_api', 'leveli', 'parent', 'freq', 'nkb',\n",
       "       'mfo', 'fullname', 'gr_bank', 'r034', 'value', 'tzep', 'gr_name'],\n",
       "      dtype='object')"
      ]
     },
     "execution_count": 58,
     "metadata": {},
     "output_type": "execute_result"
    }
   ],
   "source": [
    "df.columns"
   ]
  },
  {
   "cell_type": "code",
   "execution_count": 69,
   "metadata": {},
   "outputs": [],
   "source": [
    "df_con=df.groupby([df.dt,df.gr_bank]).value.sum().reset_index()\n",
    "df_con=df_con[df_con.gr_bank.isin(agg_choice)]\n",
    "gr_bank=list(df_con.gr_bank)\n",
    "a=[]\n",
    "for i in gr_bank:\n",
    "    for j in agg_multi_select:\n",
    "        if i.strip() ==j[1]:\n",
    "            a.append(j[0])\n",
    "df_con['gr_name']=pd.Series(a)\n",
    "df_con = df_con.loc[:,['dt','gr_name','value']]\n",
    "df_con.columns = ['Дата',\"Банк\",\"Значення\"]"
   ]
  },
  {
   "cell_type": "code",
   "execution_count": 72,
   "metadata": {},
   "outputs": [
    {
     "data": {
      "text/plain": [
       "(96, (96, 3))"
      ]
     },
     "execution_count": 72,
     "metadata": {},
     "output_type": "execute_result"
    }
   ],
   "source": [
    "len(gr_bank),df_con.shape"
   ]
  }
 ],
 "metadata": {
  "kernelspec": {
   "display_name": "Python 3",
   "language": "python",
   "name": "python3"
  },
  "language_info": {
   "codemirror_mode": {
    "name": "ipython",
    "version": 3
   },
   "file_extension": ".py",
   "mimetype": "text/x-python",
   "name": "python",
   "nbconvert_exporter": "python",
   "pygments_lexer": "ipython3",
   "version": "3.8.3"
  }
 },
 "nbformat": 4,
 "nbformat_minor": 4
}
