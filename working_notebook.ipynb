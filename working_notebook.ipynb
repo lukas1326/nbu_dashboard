{
 "cells": [
  {
   "cell_type": "code",
   "execution_count": 1,
   "metadata": {},
   "outputs": [],
   "source": [
    "import requests\n",
    "import pandas as pd\n",
    "import json"
   ]
  },
  {
   "cell_type": "code",
   "execution_count": 53,
   "metadata": {},
   "outputs": [
    {
     "data": {
      "text/plain": [
       "<Response [200]>"
      ]
     },
     "execution_count": 53,
     "metadata": {},
     "output_type": "execute_result"
    }
   ],
   "source": [
    "#url= 'https://bank.gov.ua/NBUStatService/v1/statdirectory/banksfinrep?start=20180101&period=m&json'\n",
    "#: https://bank.gov.ua/NBUStatService/v1/statdirectory/grossextdebt?s181=1&id_api=ED_IIP_GG_loans_L&freq=Q&json\n",
    "url= 'https://bank.gov.ua/NBUStatService/v1/statdirectory/banksfinrep?mfo=305299&date=20200201&period=m&json'\n",
    "r=requests.get(url)\n",
    "r"
   ]
  },
  {
   "cell_type": "code",
   "execution_count": 54,
   "metadata": {},
   "outputs": [],
   "source": [
    "source=r.json()\n"
   ]
  },
  {
   "cell_type": "code",
   "execution_count": 55,
   "metadata": {},
   "outputs": [],
   "source": [
    "data=pd.DataFrame(source)"
   ]
  },
  {
   "cell_type": "code",
   "execution_count": 56,
   "metadata": {},
   "outputs": [
    {
     "data": {
      "text/plain": [
       "array(['АТ КБ \"ПриватБанк\"'], dtype=object)"
      ]
     },
     "execution_count": 56,
     "metadata": {},
     "output_type": "execute_result"
    }
   ],
   "source": [
    "data.fullname.unique()"
   ]
  },
  {
   "cell_type": "code",
   "execution_count": 49,
   "metadata": {},
   "outputs": [],
   "source": [
    "#data.to_csv('data.csv')"
   ]
  },
  {
   "cell_type": "code",
   "execution_count": 6,
   "metadata": {},
   "outputs": [
    {
     "data": {
      "text/plain": [
       "array(['20180101'], dtype=object)"
      ]
     },
     "execution_count": 6,
     "metadata": {},
     "output_type": "execute_result"
    }
   ],
   "source": [
    "data=pd.DataFrame(source)\n",
    "data.dt.unique()"
   ]
  },
  {
   "cell_type": "code",
   "execution_count": 7,
   "metadata": {
    "scrolled": true
   },
   "outputs": [
    {
     "data": {
      "text/plain": [
       "0      2018-01-01\n",
       "1      2018-01-01\n",
       "2      2018-01-01\n",
       "3      2018-01-01\n",
       "4      2018-01-01\n",
       "          ...    \n",
       "8025   2018-01-01\n",
       "8026   2018-01-01\n",
       "8027   2018-01-01\n",
       "8028   2018-01-01\n",
       "8029   2018-01-01\n",
       "Name: dt, Length: 8030, dtype: datetime64[ns]"
      ]
     },
     "execution_count": 7,
     "metadata": {},
     "output_type": "execute_result"
    }
   ],
   "source": [
    "pd.to_datetime(data.dt)"
   ]
  },
  {
   "cell_type": "code",
   "execution_count": 11,
   "metadata": {},
   "outputs": [
    {
     "data": {
      "text/plain": [
       "array(['Fin_Report_Banks'], dtype=object)"
      ]
     },
     "execution_count": 11,
     "metadata": {},
     "output_type": "execute_result"
    }
   ],
   "source": [
    "data[data.leveli==1].parent.unique()"
   ]
  },
  {
   "cell_type": "code",
   "execution_count": 16,
   "metadata": {},
   "outputs": [
    {
     "data": {
      "text/plain": [
       "array(['BS1_ExpenTotal', 'BS1_IncomeTotal', 'BS1_AssetsTotal',\n",
       "       'BS1_LiabTotal', 'BS1_ProfitLossBeforTax',\n",
       "       'BS1_ProfitLossAfterTax', 'BS1_CapitalTotal'], dtype=object)"
      ]
     },
     "execution_count": 16,
     "metadata": {},
     "output_type": "execute_result"
    }
   ],
   "source": [
    "data[data.leveli==1].id_api.unique()"
   ]
  },
  {
   "cell_type": "code",
   "execution_count": 12,
   "metadata": {},
   "outputs": [
    {
     "data": {
      "text/plain": [
       "array(['BS1_AssetsTotal', 'BS1_ExpenTotal', 'BS1_IncomeTotal',\n",
       "       'BS1_Capital_Total', 'BS1_LiabTotal', 'BS1_ProfitAfterTax'],\n",
       "      dtype=object)"
      ]
     },
     "execution_count": 12,
     "metadata": {},
     "output_type": "execute_result"
    }
   ],
   "source": [
    "data[data.leveli==2].parent.unique()"
   ]
  },
  {
   "cell_type": "code",
   "execution_count": 13,
   "metadata": {
    "scrolled": true
   },
   "outputs": [
    {
     "data": {
      "text/plain": [
       "array(['BS1_AssetsLoansClients', 'BS1_AssetsLoanCust', 'BS1_TradeRes',\n",
       "       'BS1_AssetsSecurFVOCI', 'BS1_AssetsSecurAC', 'BS1_LiabCust',\n",
       "       'BS1_NetInterIncomeExpen', 'BS1_AllocProv',\n",
       "       'BS1_NetCommIncomeExpen', 'Assets_Other_Fin', 'BS1_AssetsOther',\n",
       "       'BS1_AdminOperCosts', 'BS1_FinAssetsFairVal',\n",
       "       'BS1_AccountsOtherBanks', 'BS1_AssetsCash'], dtype=object)"
      ]
     },
     "execution_count": 13,
     "metadata": {},
     "output_type": "execute_result"
    }
   ],
   "source": [
    "data[data.leveli==3].parent.unique()"
   ]
  },
  {
   "cell_type": "code",
   "execution_count": 17,
   "metadata": {},
   "outputs": [
    {
     "data": {
      "text/plain": [
       "array(['BS1_AssetsLoansClients', 'BS1_AssetsSecurFVOCI',\n",
       "       'BS1_AdminOperCosts', 'BS1_AssetsOther', 'BS1_AssetsNet',\n",
       "       'BS1_NetIncome', 'BS1_AllocProv', 'BS1_AssetsProvTotal',\n",
       "       'BS1_ShareCapital', 'BS1_AssetsSecurAC', 'BS1_LiabBanks',\n",
       "       'BS1_LiabCust', 'BS1_CapitalRevalReserves', 'BS1_LiabOtherFin',\n",
       "       'BS1_LiabOther', 'BS1_SharePremAccount', 'BS1_OtherCapital',\n",
       "       'BS1_CapitaReserves', 'BS1_AssetsInvestSubsid',\n",
       "       'BS1_AssetsInvestProp', 'BS1_NonRegistShareCapital',\n",
       "       'BS1_NetCommIncomeCosts', 'BS1_OtherOperIncome',\n",
       "       'BS1_NetInterIncomeCosts', 'BS1_CapitalEarnLoss',\n",
       "       'BS1_AssetsReceivCurrIncTax', 'BS1_AssetsDeferTax',\n",
       "       'BS1_AssetsCapitalNominal', 'BS1_AssetsIGLBRefinNBU',\n",
       "       'BS1_FinLiabFairVal', 'BS1_LiabDebtSecur',\n",
       "       'BS1_LiabOtherBorrFunds', 'BS1_AssetsOtherFin', 'BS1_LiabProv',\n",
       "       'BS1_LiabDeferrTax', 'BS1_AssetsCash', 'BS1_LiabCurrentIncomeTax',\n",
       "       'BS1_LiabNBU', 'BS1_LiabSubDebt', 'BS1_AssetsOtherBanks',\n",
       "       'BS1_IncomeTaxExpen', 'BS1_OtherIncome', 'BS1_FinAssetsFairVal'],\n",
       "      dtype=object)"
      ]
     },
     "execution_count": 17,
     "metadata": {},
     "output_type": "execute_result"
    }
   ],
   "source": [
    "data[data.leveli==2].id_api.unique()"
   ]
  },
  {
   "cell_type": "code",
   "execution_count": 14,
   "metadata": {},
   "outputs": [
    {
     "data": {
      "text/plain": [
       "array(['BS1_AssetsLoansIndiv', 'BS1_AssetsLoansLE', 'BS1_ExpenInterest',\n",
       "       'BS1_LiabLE', 'BS1_IncomeInterest', 'BS1_LiabIndiv'], dtype=object)"
      ]
     },
     "execution_count": 14,
     "metadata": {},
     "output_type": "execute_result"
    }
   ],
   "source": [
    "data[data.leveli==4].parent.unique()"
   ]
  },
  {
   "cell_type": "code",
   "execution_count": 18,
   "metadata": {},
   "outputs": [
    {
     "data": {
      "text/plain": [
       "Index(['dt', 'txt', 'txten', 'id_api', 'leveli', 'parent', 'freq', 'nkb',\n",
       "       'mfo', 'fullname', 'gr_bank', 'r034', 'value', 'tzep'],\n",
       "      dtype='object')"
      ]
     },
     "execution_count": 18,
     "metadata": {},
     "output_type": "execute_result"
    }
   ],
   "source": [
    "data.columns"
   ]
  },
  {
   "cell_type": "code",
   "execution_count": 20,
   "metadata": {
    "scrolled": true
   },
   "outputs": [
    {
     "data": {
      "text/plain": [
       "array([' 49', '290', ' 91', '326', '296', '392', ' 95', '106', '136',\n",
       "       '270', '129', '634', '231', '115', '463', '105', '295', '  5',\n",
       "       '  3', ' 62', '133', '321', ' 29', ' 36', '205', '242', '386',\n",
       "       '  2', '113', '381', '274', '430', '395', '142', '153', '206',\n",
       "       '305', '331', '389', '286', '513', '101', ' 42', '143', '240',\n",
       "       '272', '243', '297', '311', '325', '387', '394', '288', '402',\n",
       "       '455', '694', '553', '241', '128', '460', '146', '251', '320',\n",
       "       '317', ' 96', '313', ' 97', ' 43', '377', '126', ' 72', '512',\n",
       "       '407', '298', '329', '  6', '299', '171', ' 88', '191', '593',\n",
       "       '123', '774', ' 46'], dtype=object)"
      ]
     },
     "execution_count": 20,
     "metadata": {},
     "output_type": "execute_result"
    }
   ],
   "source": [
    "data.nkb.unique()"
   ]
  },
  {
   "cell_type": "code",
   "execution_count": 21,
   "metadata": {},
   "outputs": [
    {
     "data": {
      "text/plain": [
       "1       АТ \"ПЕРШИЙ ІНВЕСТИЦІЙНИЙ БАНК\"\n",
       "4       АТ \"ПЕРШИЙ ІНВЕСТИЦІЙНИЙ БАНК\"\n",
       "282     АТ \"ПЕРШИЙ ІНВЕСТИЦІЙНИЙ БАНК\"\n",
       "398     АТ \"ПЕРШИЙ ІНВЕСТИЦІЙНИЙ БАНК\"\n",
       "453     АТ \"ПЕРШИЙ ІНВЕСТИЦІЙНИЙ БАНК\"\n",
       "                     ...              \n",
       "7830    АТ \"ПЕРШИЙ ІНВЕСТИЦІЙНИЙ БАНК\"\n",
       "7898    АТ \"ПЕРШИЙ ІНВЕСТИЦІЙНИЙ БАНК\"\n",
       "7966    АТ \"ПЕРШИЙ ІНВЕСТИЦІЙНИЙ БАНК\"\n",
       "7990    АТ \"ПЕРШИЙ ІНВЕСТИЦІЙНИЙ БАНК\"\n",
       "8023    АТ \"ПЕРШИЙ ІНВЕСТИЦІЙНИЙ БАНК\"\n",
       "Name: fullname, Length: 94, dtype: object"
      ]
     },
     "execution_count": 21,
     "metadata": {},
     "output_type": "execute_result"
    }
   ],
   "source": [
    "data[data.nkb=='290'].fullname\n"
   ]
  },
  {
   "cell_type": "code",
   "execution_count": 22,
   "metadata": {},
   "outputs": [
    {
     "data": {
      "text/plain": [
       "array(['E', 'B', 'A', 'F'], dtype=object)"
      ]
     },
     "execution_count": 22,
     "metadata": {},
     "output_type": "execute_result"
    }
   ],
   "source": [
    "data.gr_bank.unique()"
   ]
  },
  {
   "cell_type": "code",
   "execution_count": 24,
   "metadata": {},
   "outputs": [
    {
     "data": {
      "text/plain": [
       "array(['АТ \"Укрексімбанк\"', 'АБ \"УКРГАЗБАНК\"', 'АТ \"Ощадбанк\"',\n",
       "       'ПАТ \"РОЗРАХУНКОВИЙ ЦЕНТР\"', 'АТ КБ \"ПриватБанк\"'], dtype=object)"
      ]
     },
     "execution_count": 24,
     "metadata": {},
     "output_type": "execute_result"
    }
   ],
   "source": [
    "data[data.gr_bank=='A'].fullname.unique()"
   ]
  },
  {
   "cell_type": "code",
   "execution_count": 25,
   "metadata": {},
   "outputs": [
    {
     "data": {
      "text/plain": [
       "array(['АТ \"ОТП БАНК\"', 'АТ \"УКРСИББАНК\"', 'АТ \"БТА БАНК\"',\n",
       "       'АТ \"ІНГ Банк Україна\"', 'АТ \"УКРСОЦБАНК\"', 'ПАТ \"Промінвестбанк\"',\n",
       "       'АТ \"БМ БАНК\"', 'АТ \"Райффайзен Банк Аваль\"', 'АТ \"Ідея Банк\"',\n",
       "       'АТ \"ПРАВЕКС БАНК\"', 'АТ \"КРЕДИТВЕСТ БАНК\"', 'АТ \"ВТБ БАНК\"',\n",
       "       'АТ \"АЛЬФА-БАНК\"', 'АТ \"СІТІБАНК\"', 'АТ \"БАНК ФОРВАРД\"',\n",
       "       'АТ \"СЕБ КОРПОРАТИВНИЙ БАНК\"', 'АТ \"ПІРЕУС БАНК МКБ\"',\n",
       "       'АТ \"Дойче Банк ДБУ\"', 'АТ \"ПРОКРЕДИТ БАНК\"',\n",
       "       'АТ \"КРЕДИТ ЄВРОПА БАНК\"', 'АТ \"СБЕРБАНК\"',\n",
       "       'АТ \"КРЕДІ АГРІКОЛЬ БАНК\"', 'АТ \"КРЕДОБАНК\"'], dtype=object)"
      ]
     },
     "execution_count": 25,
     "metadata": {},
     "output_type": "execute_result"
    }
   ],
   "source": [
    "data[data.gr_bank=='B'].fullname.unique()"
   ]
  },
  {
   "cell_type": "code",
   "execution_count": 28,
   "metadata": {},
   "outputs": [
    {
     "data": {
      "text/plain": [
       "array(['Полікомбанк', 'АТ \"ПЕРШИЙ ІНВЕСТИЦІЙНИЙ БАНК\"', 'АТ АКБ \"Львів\"',\n",
       "       'АТ \"АКБ \"КОНКОРД\"', 'ПуАТ \"КБ \"АКОРДБАНК\"', 'АТ \"ОКСІ БАНК\"',\n",
       "       'Акціонерний банк \"Південний\"', 'АТ \"БАНК КРЕДИТ ДНІПРО\"',\n",
       "       'АТ \"БАНК \"ПОРТАЛ\"', 'АТ \"ЮНЕКС БАНК\"', 'АТ \"ПУМБ\"',\n",
       "       'ПАТ \"ДІВІ БАНК\"', 'ПАТ \"МТБ БАНК\"', 'АТ \"ТАСКОМБАНК\"',\n",
       "       'АТ \"АСВІО БАНК\"', 'АТ \"БАНК АЛЬЯНС\"', 'АТ \"МетаБанк\"',\n",
       "       'АТ \"УНІВЕРСАЛ БАНК\"', 'АТ \"КБ \"ГЛОБУС\"', 'АТ \"Полтава-банк\"',\n",
       "       'АТ \"МОТОР-БАНК\"', 'ПАТ КБ \"Центр\"', 'АТ \"ЄПБ\"', 'АТ \"Місто Банк\"',\n",
       "       'ПАТ \"БАНК ВОСТОК\"', 'АТ \"МІБ\"', 'АТ \"АБ \"РАДАБАНК\"',\n",
       "       'АКБ \"ІНДУСТРІАЛБАНК\"', 'АТ \"КОМІНВЕСТБАНК\"', 'АТ \"КІБ\"',\n",
       "       'АТ \"КБ \"ЗЕМЕЛЬНИЙ КАПІТАЛ\"', 'АТ \"БАНК ТРАСТ-КАПІТАЛ\"',\n",
       "       'АТ \"АП БАНК\"', 'АТ \"БАНК 3/4\"', 'АБ \"КЛІРИНГОВИЙ ДІМ\"',\n",
       "       'АТ \"ВЕРНУМ БАНК\"', 'АТ \"КРИСТАЛБАНК\"', 'АТ \"БАНК АВАНГАРД\"',\n",
       "       'АТ \"АЙБОКС БАНК\"', 'АТ \"СКАЙ БАНК\"', 'АТ \"БАНК СІЧ\"',\n",
       "       'АТ \"БАНК \"УКРАЇНСЬКИЙ КАПІТАЛ\"',\n",
       "       'АТ \"БАНК ІНВЕСТИЦІЙ ТА ЗАОЩАДЖЕНЬ\"', 'АТ \"А - БАНК\"',\n",
       "       'АТ \"Український банк реконструкції та розвитку\"',\n",
       "       'ПАТ \"ВіЕс Банк\"', 'АТ \"АЛЬТБАНК\"', 'АТ \"УКРБУДІНВЕСТБАНК\"',\n",
       "       'АТ \"МЕГАБАНК\"', 'ПрАТ \"БАНК ФАМІЛЬНИЙ\"', 'АТ \"АЛЬПАРІ БАНК\"',\n",
       "       'АТ АКБ \"АРКАДА\"', 'АТ \"БАНК \"ГРАНТ\"', 'АТ \"РВС БАНК\"'],\n",
       "      dtype=object)"
      ]
     },
     "execution_count": 28,
     "metadata": {},
     "output_type": "execute_result"
    }
   ],
   "source": [
    "data[data.gr_bank=='E'].fullname.unique()"
   ]
  },
  {
   "cell_type": "code",
   "execution_count": 29,
   "metadata": {},
   "outputs": [
    {
     "data": {
      "text/plain": [
       "array(['ПАТ \"БАНК \"ЮНІСОН\"', 'ПАТ \"КБ \"ФІНАНСОВА ІНІЦІАТИВА\"'],\n",
       "      dtype=object)"
      ]
     },
     "execution_count": 29,
     "metadata": {},
     "output_type": "execute_result"
    }
   ],
   "source": [
    "data[data.gr_bank=='F'].fullname.unique()"
   ]
  },
  {
   "cell_type": "code",
   "execution_count": 31,
   "metadata": {},
   "outputs": [
    {
     "data": {
      "text/plain": [
       "array(['2', '1'], dtype=object)"
      ]
     },
     "execution_count": 31,
     "metadata": {},
     "output_type": "execute_result"
    }
   ],
   "source": [
    "data.r034.unique()"
   ]
  },
  {
   "cell_type": "code",
   "execution_count": 43,
   "metadata": {},
   "outputs": [
    {
     "data": {
      "text/plain": [
       "array(['T070_7'], dtype=object)"
      ]
     },
     "execution_count": 43,
     "metadata": {},
     "output_type": "execute_result"
    }
   ],
   "source": [
    "data.tzep.unique()"
   ]
  },
  {
   "cell_type": "code",
   "execution_count": 57,
   "metadata": {},
   "outputs": [
    {
     "data": {
      "text/html": [
       "<div>\n",
       "<style scoped>\n",
       "    .dataframe tbody tr th:only-of-type {\n",
       "        vertical-align: middle;\n",
       "    }\n",
       "\n",
       "    .dataframe tbody tr th {\n",
       "        vertical-align: top;\n",
       "    }\n",
       "\n",
       "    .dataframe thead th {\n",
       "        text-align: right;\n",
       "    }\n",
       "</style>\n",
       "<table border=\"1\" class=\"dataframe\">\n",
       "  <thead>\n",
       "    <tr style=\"text-align: right;\">\n",
       "      <th></th>\n",
       "      <th>Unnamed: 0</th>\n",
       "      <th>dt</th>\n",
       "      <th>txt</th>\n",
       "      <th>txten</th>\n",
       "      <th>id_api</th>\n",
       "      <th>leveli</th>\n",
       "      <th>parent</th>\n",
       "      <th>freq</th>\n",
       "      <th>nkb</th>\n",
       "      <th>mfo</th>\n",
       "      <th>fullname</th>\n",
       "      <th>gr_bank</th>\n",
       "      <th>r034</th>\n",
       "      <th>value</th>\n",
       "      <th>tzep</th>\n",
       "    </tr>\n",
       "  </thead>\n",
       "  <tbody>\n",
       "    <tr>\n",
       "      <th>0</th>\n",
       "      <td>0</td>\n",
       "      <td>20180101</td>\n",
       "      <td>Активи - Резерви під знецінення кредитів та за...</td>\n",
       "      <td>Assets - Provision for impairment of loans and...</td>\n",
       "      <td>BS1_AssetsProvLoansIndiv</td>\n",
       "      <td>4</td>\n",
       "      <td>BS1_AssetsLoansIndiv</td>\n",
       "      <td>M</td>\n",
       "      <td>49</td>\n",
       "      <td>353100</td>\n",
       "      <td>Полікомбанк</td>\n",
       "      <td>E</td>\n",
       "      <td>2</td>\n",
       "      <td>-0.0895</td>\n",
       "      <td>T070_7</td>\n",
       "    </tr>\n",
       "    <tr>\n",
       "      <th>1</th>\n",
       "      <td>1</td>\n",
       "      <td>20180101</td>\n",
       "      <td>Активи - Резерви під знецінення кредитів та за...</td>\n",
       "      <td>Assets - Provision for impairment of loans and...</td>\n",
       "      <td>BS1_AssetsProvLoansIndiv</td>\n",
       "      <td>4</td>\n",
       "      <td>BS1_AssetsLoansIndiv</td>\n",
       "      <td>M</td>\n",
       "      <td>290</td>\n",
       "      <td>300506</td>\n",
       "      <td>АТ \"ПЕРШИЙ ІНВЕСТИЦІЙНИЙ БАНК\"</td>\n",
       "      <td>E</td>\n",
       "      <td>1</td>\n",
       "      <td>-0.5868</td>\n",
       "      <td>T070_7</td>\n",
       "    </tr>\n",
       "    <tr>\n",
       "      <th>2</th>\n",
       "      <td>2</td>\n",
       "      <td>20180101</td>\n",
       "      <td>Активи - Кредити та заборгованість клієнтів</td>\n",
       "      <td>Assets - Loans and receivables from customers</td>\n",
       "      <td>BS1_AssetsLoansClients</td>\n",
       "      <td>2</td>\n",
       "      <td>BS1_AssetsTotal</td>\n",
       "      <td>M</td>\n",
       "      <td>91</td>\n",
       "      <td>325268</td>\n",
       "      <td>АТ АКБ \"Львів\"</td>\n",
       "      <td>E</td>\n",
       "      <td>2</td>\n",
       "      <td>447.5060</td>\n",
       "      <td>T070_7</td>\n",
       "    </tr>\n",
       "    <tr>\n",
       "      <th>3</th>\n",
       "      <td>3</td>\n",
       "      <td>20180101</td>\n",
       "      <td>Активи - Кредити та заборгованість клієнтів</td>\n",
       "      <td>Assets - Loans and receivables from customers</td>\n",
       "      <td>BS1_AssetsLoansClients</td>\n",
       "      <td>2</td>\n",
       "      <td>BS1_AssetsTotal</td>\n",
       "      <td>M</td>\n",
       "      <td>326</td>\n",
       "      <td>307350</td>\n",
       "      <td>АТ \"АКБ \"КОНКОРД\"</td>\n",
       "      <td>E</td>\n",
       "      <td>2</td>\n",
       "      <td>28.1171</td>\n",
       "      <td>T070_7</td>\n",
       "    </tr>\n",
       "    <tr>\n",
       "      <th>4</th>\n",
       "      <td>4</td>\n",
       "      <td>20180101</td>\n",
       "      <td>Активи - Кредити та заборгованість клієнтів</td>\n",
       "      <td>Assets - Loans and receivables from customers</td>\n",
       "      <td>BS1_AssetsLoansClients</td>\n",
       "      <td>2</td>\n",
       "      <td>BS1_AssetsTotal</td>\n",
       "      <td>M</td>\n",
       "      <td>290</td>\n",
       "      <td>300506</td>\n",
       "      <td>АТ \"ПЕРШИЙ ІНВЕСТИЦІЙНИЙ БАНК\"</td>\n",
       "      <td>E</td>\n",
       "      <td>2</td>\n",
       "      <td>168.3048</td>\n",
       "      <td>T070_7</td>\n",
       "    </tr>\n",
       "    <tr>\n",
       "      <th>...</th>\n",
       "      <td>...</td>\n",
       "      <td>...</td>\n",
       "      <td>...</td>\n",
       "      <td>...</td>\n",
       "      <td>...</td>\n",
       "      <td>...</td>\n",
       "      <td>...</td>\n",
       "      <td>...</td>\n",
       "      <td>...</td>\n",
       "      <td>...</td>\n",
       "      <td>...</td>\n",
       "      <td>...</td>\n",
       "      <td>...</td>\n",
       "      <td>...</td>\n",
       "      <td>...</td>\n",
       "    </tr>\n",
       "    <tr>\n",
       "      <th>245479</th>\n",
       "      <td>245479</td>\n",
       "      <td>20200801</td>\n",
       "      <td>Зобов'язання - Резерви за зобов’язаннями</td>\n",
       "      <td>Liabilities - Provision against liabilities</td>\n",
       "      <td>BS1_LiabProv</td>\n",
       "      <td>2</td>\n",
       "      <td>BS1_LiabTotal</td>\n",
       "      <td>M</td>\n",
       "      <td>774</td>\n",
       "      <td>339072</td>\n",
       "      <td>АТ \"РВС БАНК\"</td>\n",
       "      <td>E</td>\n",
       "      <td>1</td>\n",
       "      <td>0.9200</td>\n",
       "      <td>T070_7</td>\n",
       "    </tr>\n",
       "    <tr>\n",
       "      <th>245480</th>\n",
       "      <td>245480</td>\n",
       "      <td>20200801</td>\n",
       "      <td>Активи - Усього активів</td>\n",
       "      <td>Assets - Total assets</td>\n",
       "      <td>BS1_AssetsTotal</td>\n",
       "      <td>1</td>\n",
       "      <td>Fin_Report_Banks</td>\n",
       "      <td>M</td>\n",
       "      <td>774</td>\n",
       "      <td>339072</td>\n",
       "      <td>АТ \"РВС БАНК\"</td>\n",
       "      <td>E</td>\n",
       "      <td>2</td>\n",
       "      <td>272.7437</td>\n",
       "      <td>T070_7</td>\n",
       "    </tr>\n",
       "    <tr>\n",
       "      <th>245481</th>\n",
       "      <td>245481</td>\n",
       "      <td>20200801</td>\n",
       "      <td>Активи - Усього активів</td>\n",
       "      <td>Assets - Total assets</td>\n",
       "      <td>BS1_AssetsTotal</td>\n",
       "      <td>1</td>\n",
       "      <td>Fin_Report_Banks</td>\n",
       "      <td>M</td>\n",
       "      <td>774</td>\n",
       "      <td>339072</td>\n",
       "      <td>АТ \"РВС БАНК\"</td>\n",
       "      <td>E</td>\n",
       "      <td>1</td>\n",
       "      <td>975.9768</td>\n",
       "      <td>T070_7</td>\n",
       "    </tr>\n",
       "    <tr>\n",
       "      <th>245482</th>\n",
       "      <td>245482</td>\n",
       "      <td>20200801</td>\n",
       "      <td>Зобов'язання - Кошти клієнтів-юридичних осіб н...</td>\n",
       "      <td>Liabilities - Demand deposits from legal entities</td>\n",
       "      <td>BS1_LiabLEDemand</td>\n",
       "      <td>4</td>\n",
       "      <td>BS1_LiabLE</td>\n",
       "      <td>M</td>\n",
       "      <td>774</td>\n",
       "      <td>339072</td>\n",
       "      <td>АТ \"РВС БАНК\"</td>\n",
       "      <td>E</td>\n",
       "      <td>2</td>\n",
       "      <td>47.2667</td>\n",
       "      <td>T070_7</td>\n",
       "    </tr>\n",
       "    <tr>\n",
       "      <th>245483</th>\n",
       "      <td>245483</td>\n",
       "      <td>20200801</td>\n",
       "      <td>Зобов'язання - Кошти клієнтів-юридичних осіб н...</td>\n",
       "      <td>Liabilities - Demand deposits from legal entities</td>\n",
       "      <td>BS1_LiabLEDemand</td>\n",
       "      <td>4</td>\n",
       "      <td>BS1_LiabLE</td>\n",
       "      <td>M</td>\n",
       "      <td>774</td>\n",
       "      <td>339072</td>\n",
       "      <td>АТ \"РВС БАНК\"</td>\n",
       "      <td>E</td>\n",
       "      <td>1</td>\n",
       "      <td>375.8035</td>\n",
       "      <td>T070_7</td>\n",
       "    </tr>\n",
       "  </tbody>\n",
       "</table>\n",
       "<p>245484 rows × 15 columns</p>\n",
       "</div>"
      ],
      "text/plain": [
       "        Unnamed: 0        dt  \\\n",
       "0                0  20180101   \n",
       "1                1  20180101   \n",
       "2                2  20180101   \n",
       "3                3  20180101   \n",
       "4                4  20180101   \n",
       "...            ...       ...   \n",
       "245479      245479  20200801   \n",
       "245480      245480  20200801   \n",
       "245481      245481  20200801   \n",
       "245482      245482  20200801   \n",
       "245483      245483  20200801   \n",
       "\n",
       "                                                      txt  \\\n",
       "0       Активи - Резерви під знецінення кредитів та за...   \n",
       "1       Активи - Резерви під знецінення кредитів та за...   \n",
       "2             Активи - Кредити та заборгованість клієнтів   \n",
       "3             Активи - Кредити та заборгованість клієнтів   \n",
       "4             Активи - Кредити та заборгованість клієнтів   \n",
       "...                                                   ...   \n",
       "245479           Зобов'язання - Резерви за зобов’язаннями   \n",
       "245480                            Активи - Усього активів   \n",
       "245481                            Активи - Усього активів   \n",
       "245482  Зобов'язання - Кошти клієнтів-юридичних осіб н...   \n",
       "245483  Зобов'язання - Кошти клієнтів-юридичних осіб н...   \n",
       "\n",
       "                                                    txten  \\\n",
       "0       Assets - Provision for impairment of loans and...   \n",
       "1       Assets - Provision for impairment of loans and...   \n",
       "2           Assets - Loans and receivables from customers   \n",
       "3           Assets - Loans and receivables from customers   \n",
       "4           Assets - Loans and receivables from customers   \n",
       "...                                                   ...   \n",
       "245479        Liabilities - Provision against liabilities   \n",
       "245480                              Assets - Total assets   \n",
       "245481                              Assets - Total assets   \n",
       "245482  Liabilities - Demand deposits from legal entities   \n",
       "245483  Liabilities - Demand deposits from legal entities   \n",
       "\n",
       "                          id_api  leveli                parent freq  nkb  \\\n",
       "0       BS1_AssetsProvLoansIndiv       4  BS1_AssetsLoansIndiv    M   49   \n",
       "1       BS1_AssetsProvLoansIndiv       4  BS1_AssetsLoansIndiv    M  290   \n",
       "2         BS1_AssetsLoansClients       2       BS1_AssetsTotal    M   91   \n",
       "3         BS1_AssetsLoansClients       2       BS1_AssetsTotal    M  326   \n",
       "4         BS1_AssetsLoansClients       2       BS1_AssetsTotal    M  290   \n",
       "...                          ...     ...                   ...  ...  ...   \n",
       "245479              BS1_LiabProv       2         BS1_LiabTotal    M  774   \n",
       "245480           BS1_AssetsTotal       1      Fin_Report_Banks    M  774   \n",
       "245481           BS1_AssetsTotal       1      Fin_Report_Banks    M  774   \n",
       "245482          BS1_LiabLEDemand       4            BS1_LiabLE    M  774   \n",
       "245483          BS1_LiabLEDemand       4            BS1_LiabLE    M  774   \n",
       "\n",
       "           mfo                        fullname gr_bank  r034     value    tzep  \n",
       "0       353100                     Полікомбанк       E     2   -0.0895  T070_7  \n",
       "1       300506  АТ \"ПЕРШИЙ ІНВЕСТИЦІЙНИЙ БАНК\"       E     1   -0.5868  T070_7  \n",
       "2       325268                  АТ АКБ \"Львів\"       E     2  447.5060  T070_7  \n",
       "3       307350               АТ \"АКБ \"КОНКОРД\"       E     2   28.1171  T070_7  \n",
       "4       300506  АТ \"ПЕРШИЙ ІНВЕСТИЦІЙНИЙ БАНК\"       E     2  168.3048  T070_7  \n",
       "...        ...                             ...     ...   ...       ...     ...  \n",
       "245479  339072                   АТ \"РВС БАНК\"       E     1    0.9200  T070_7  \n",
       "245480  339072                   АТ \"РВС БАНК\"       E     2  272.7437  T070_7  \n",
       "245481  339072                   АТ \"РВС БАНК\"       E     1  975.9768  T070_7  \n",
       "245482  339072                   АТ \"РВС БАНК\"       E     2   47.2667  T070_7  \n",
       "245483  339072                   АТ \"РВС БАНК\"       E     1  375.8035  T070_7  \n",
       "\n",
       "[245484 rows x 15 columns]"
      ]
     },
     "execution_count": 57,
     "metadata": {},
     "output_type": "execute_result"
    }
   ],
   "source": [
    "pd.read_csv(\"data.csv\")"
   ]
  }
 ],
 "metadata": {
  "kernelspec": {
   "display_name": "Python 3",
   "language": "python",
   "name": "python3"
  },
  "language_info": {
   "codemirror_mode": {
    "name": "ipython",
    "version": 3
   },
   "file_extension": ".py",
   "mimetype": "text/x-python",
   "name": "python",
   "nbconvert_exporter": "python",
   "pygments_lexer": "ipython3",
   "version": "3.8.3"
  }
 },
 "nbformat": 4,
 "nbformat_minor": 4
}
